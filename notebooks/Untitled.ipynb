{
 "cells": [
  {
   "cell_type": "code",
   "execution_count": 1,
   "id": "f4b16404-28a7-4241-80a8-280b02304d13",
   "metadata": {},
   "outputs": [],
   "source": [
    "import torch\n",
    "import building_babel.model as bbm\n",
    "import building_babel.modules.growable as bbg\n",
    "import torch.nn.functional as F"
   ]
  },
  {
   "cell_type": "code",
   "execution_count": 2,
   "id": "49bd20a4-03d6-4753-a6ec-72b3b6957dce",
   "metadata": {},
   "outputs": [],
   "source": [
    "c = bbm.TransformerConfig(128, 2, 1000)"
   ]
  },
  {
   "cell_type": "code",
   "execution_count": 3,
   "id": "8b386be7-0138-4250-aca5-b49323798248",
   "metadata": {},
   "outputs": [],
   "source": [
    "t = bbm.Transformer(c)"
   ]
  },
  {
   "cell_type": "code",
   "execution_count": 4,
   "id": "c2b9a063-368a-4965-bcad-86464e9ed2bb",
   "metadata": {},
   "outputs": [],
   "source": [
    "t.grow(256)"
   ]
  },
  {
   "cell_type": "code",
   "execution_count": null,
   "id": "ce729150-81f5-453d-868d-9084f33d5e20",
   "metadata": {},
   "outputs": [],
   "source": []
  }
 ],
 "metadata": {
  "kernelspec": {
   "display_name": "Python 3 (ipykernel)",
   "language": "python",
   "name": "python3"
  },
  "language_info": {
   "codemirror_mode": {
    "name": "ipython",
    "version": 3
   },
   "file_extension": ".py",
   "mimetype": "text/x-python",
   "name": "python",
   "nbconvert_exporter": "python",
   "pygments_lexer": "ipython3",
   "version": "3.10.12"
  }
 },
 "nbformat": 4,
 "nbformat_minor": 5
}
